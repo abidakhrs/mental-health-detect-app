{
 "cells": [
  {
   "cell_type": "markdown",
   "metadata": {},
   "source": [
    "IMPORT"
   ]
  },
  {
   "cell_type": "code",
   "execution_count": 2,
   "metadata": {},
   "outputs": [],
   "source": [
    "import pandas as pd\n",
    "import numpy as np\n",
    "import matplotlib.pyplot as plt\n",
    "import seaborn as sns\n",
    "from sklearn.preprocessing import LabelEncoder"
   ]
  },
  {
   "cell_type": "markdown",
   "metadata": {},
   "source": [
    "READ DATASET"
   ]
  },
  {
   "cell_type": "code",
   "execution_count": null,
   "metadata": {},
   "outputs": [
    {
     "data": {
      "text/plain": [
       "<Axes: xlabel='Hours_Worked_Per_Week', ylabel='Stress_Level_Ranked'>"
      ]
     },
     "execution_count": 15,
     "metadata": {},
     "output_type": "execute_result"
    },
    {
     "data": {
      "image/png": "[encoded data removed]",
      "text/plain": [
       "<Figure size 640x480 with 1 Axes>"
      ]
     },
     "metadata": {},
     "output_type": "display_data"
    }
   ],
   "source": [
    "df = pd.read_csv(\n",
    "    \"Impact_of_Remote_Work_on_Mental_Health.csv\",\n",
    "    usecols=['Hours_Worked_Per_Week', 'Work_Life_Balance_Rating', 'Stress_Level', 'Sleep_Quality', 'Mental_Health_Condition']\n",
    ")\n",
    "\n",
    "encoderSL = LabelEncoder()\n",
    "encoderSQ = LabelEncoder()\n",
    "encoderMHC = LabelEncoder()\n",
    "\n",
    "sleep_quality_map = {\n",
    "    'Poor': 1,\n",
    "    'Average': 2,\n",
    "    'Good': 3,\n",
    "}\n",
    "\n",
    "stress_level_map = {\n",
    "    'Low': 1,\n",
    "    'Medium': 2,   # If both used\n",
    "    'High': 3\n",
    "}\n",
    "\n",
    "df['Stress_Level_Ranked'] = df['Stress_Level'].map(stress_level_map)\n",
    "df['Sleep_Quality_Ranked'] = df['Sleep_Quality'].map(sleep_quality_map)\n",
    "\n",
    "df['Mental_Health_Condition_Encoded'] = encoderMHC.fit_transform(df['Mental_Health_Condition'])\n",
    "\n",
    "correlation_columns = [\n",
    "    'Hours_Worked_Per_Week',\n",
    "    'Work_Life_Balance_Rating',\n",
    "    'Stress_Level_Ranked',\n",
    "    'Sleep_Quality_Ranked',\n",
    "    'Mental_Health_Condition_Encoded'\n",
    "]"
   ]
  },
  {
   "cell_type": "markdown",
   "metadata": {},
   "source": [
    "DESCRIPTIVE ANALYSIS"
   ]
  },
  {
   "cell_type": "code",
   "execution_count": null,
   "metadata": {},
   "outputs": [
    {
     "name": "stdout",
     "output_type": "stream",
     "text": [
      "<class 'pandas.core.frame.DataFrame'>\n",
      "RangeIndex: 5000 entries, 0 to 4999\n",
      "Data columns (total 10 columns):\n",
      " #   Column                           Non-Null Count  Dtype \n",
      "---  ------                           --------------  ----- \n",
      " 0   Hours_Worked_Per_Week            5000 non-null   int64 \n",
      " 1   Work_Life_Balance_Rating         5000 non-null   int64 \n",
      " 2   Stress_Level                     5000 non-null   object\n",
      " 3   Mental_Health_Condition          5000 non-null   object\n",
      " 4   Sleep_Quality                    5000 non-null   object\n",
      " 5   Stress_Level_Ranked              5000 non-null   int64 \n",
      " 6   Sleep_Quality_Ranked             5000 non-null   int64 \n",
      " 7   Mental_Health_Condition_Encoded  5000 non-null   int64 \n",
      " 8   Mental_State                     5000 non-null   object\n",
      " 9   Mental_State_Encoded             5000 non-null   int64 \n",
      "dtypes: int64(6), object(4)\n",
      "memory usage: 390.8+ KB\n"
     ]
    },
    {
     "data": {
      "text/plain": [
       "Work_Life_Balance_Rating\n",
       "3    1053\n",
       "1    1023\n",
       "4     980\n",
       "5     977\n",
       "2     967\n",
       "Name: count, dtype: int64"
      ]
     },
     "execution_count": 12,
     "metadata": {},
     "output_type": "execute_result"
    }
   ],
   "source": [
    "df.info()\n",
    "df.describe(include='all')\n",
    "\n",
    "df['Mental_Health_Condition'].value_counts()\n",
    "df[''].value_counts()  # percentage\n",
    "\n",
    "# df.groupby('Mental_Health_Condition')['Hours_Worked_Per_Week'].mean()"
   ]
  },
  {
   "cell_type": "markdown",
   "metadata": {},
   "source": [
    "IDENTIFYING MISSING VALUE"
   ]
  },
  {
   "cell_type": "code",
   "execution_count": 5,
   "metadata": {},
   "outputs": [
    {
     "data": {
      "text/plain": [
       "Hours_Worked_Per_Week              0\n",
       "Work_Life_Balance_Rating           0\n",
       "Stress_Level                       0\n",
       "Mental_Health_Condition            0\n",
       "Sleep_Quality                      0\n",
       "Stress_Level_Ranked                0\n",
       "Sleep_Quality_Ranked               0\n",
       "Mental_Health_Condition_Encoded    0\n",
       "dtype: int64"
      ]
     },
     "execution_count": 5,
     "metadata": {},
     "output_type": "execute_result"
    }
   ],
   "source": [
    "df['Mental_Health_Condition'] = df['Mental_Health_Condition'].fillna('Good')\n",
    "df.isnull().sum()"
   ]
  },
  {
   "cell_type": "code",
   "execution_count": 6,
   "metadata": {},
   "outputs": [],
   "source": [
    "df.dropna()\n",
    "\n",
    "for col in df.columns:\n",
    "    mode_value = df[col].mode()[0]\n",
    "    df[col] = df[col].fillna(mode_value)"
   ]
  },
  {
   "cell_type": "code",
   "execution_count": 7,
   "metadata": {},
   "outputs": [],
   "source": [
    "df['Mental_State'] = df['Mental_Health_Condition'].replace({\n",
    "    'Burnout': 'Burnout',\n",
    "    'Anxiety': 'Burnout',\n",
    "    'Depression': 'Burnout',\n",
    "    'None': 'Good'\n",
    "})\n",
    "\n",
    "encoderMS = LabelEncoder()\n",
    "df['Mental_State_Encoded'] = encoderMS.fit_transform(df['Mental_State'])\n",
    "\n",
    "X = df[['Hours_Worked_Per_Week', 'Work_Life_Balance_Rating', 'Sleep_Quality_Ranked', 'Stress_Level_Ranked']]\n",
    "y = df['Mental_State_Encoded']\n"
   ]
  },
  {
   "cell_type": "markdown",
   "metadata": {},
   "source": [
    "ALGORITHM: LOGISTIC REGRESSION"
   ]
  },
  {
   "cell_type": "code",
   "execution_count": 8,
   "metadata": {},
   "outputs": [
    {
     "ename": "ModuleNotFoundError",
     "evalue": "No module named 'imblearn'",
     "output_type": "error",
     "traceback": [
      "\u001b[31m---------------------------------------------------------------------------\u001b[39m",
      "\u001b[31mModuleNotFoundError\u001b[39m                       Traceback (most recent call last)",
      "\u001b[36mCell\u001b[39m\u001b[36m \u001b[39m\u001b[32mIn[8]\u001b[39m\u001b[32m, line 4\u001b[39m\n\u001b[32m      2\u001b[39m \u001b[38;5;28;01mfrom\u001b[39;00m\u001b[38;5;250m \u001b[39m\u001b[34;01msklearn\u001b[39;00m\u001b[34;01m.\u001b[39;00m\u001b[34;01mlinear_model\u001b[39;00m\u001b[38;5;250m \u001b[39m\u001b[38;5;28;01mimport\u001b[39;00m LogisticRegression\n\u001b[32m      3\u001b[39m \u001b[38;5;28;01mfrom\u001b[39;00m\u001b[38;5;250m \u001b[39m\u001b[34;01msklearn\u001b[39;00m\u001b[34;01m.\u001b[39;00m\u001b[34;01mmetrics\u001b[39;00m\u001b[38;5;250m \u001b[39m\u001b[38;5;28;01mimport\u001b[39;00m accuracy_score, ConfusionMatrixDisplay\n\u001b[32m----> \u001b[39m\u001b[32m4\u001b[39m \u001b[38;5;28;01mfrom\u001b[39;00m\u001b[38;5;250m \u001b[39m\u001b[34;01mimblearn\u001b[39;00m\u001b[34;01m.\u001b[39;00m\u001b[34;01mover_sampling\u001b[39;00m\u001b[38;5;250m \u001b[39m\u001b[38;5;28;01mimport\u001b[39;00m SMOTE\n\u001b[32m      6\u001b[39m smote = SMOTE(random_state=\u001b[32m42\u001b[39m)\n\u001b[32m      7\u001b[39m X_resampled, y_resampled = smote.fit_resample(X, y)\n",
      "\u001b[31mModuleNotFoundError\u001b[39m: No module named 'imblearn'"
     ]
    }
   ],
   "source": [
    "from sklearn.model_selection import train_test_split\n",
    "from sklearn.linear_model import LogisticRegression\n",
    "from sklearn.metrics import accuracy_score, ConfusionMatrixDisplay\n",
    "from imblearn.over_sampling import SMOTE\n",
    "\n",
    "smote = SMOTE(random_state=42)\n",
    "X_resampled, y_resampled = smote.fit_resample(X, y)\n",
    "X_train, X_test, y_train, y_test = train_test_split(X, y, test_size=0.8, random_state=42)\n",
    "\n",
    "model = LogisticRegression(solver='lbfgs', max_iter=1000, class_weight='balanced')\n",
    "model.fit(X_train, y_train)\n",
    "y_pred = model.predict(X_test)\n",
    "\n",
    "ConfusionMatrixDisplay.from_predictions(y_test, y_pred, display_labels=df['Mental_State'].unique())\n",
    "print(\"Accuracy:\", accuracy_score(y_test, y_pred))"
   ]
  },
  {
   "cell_type": "markdown",
   "metadata": {},
   "source": [
    "ALGORITHM: RANDOM FOREST"
   ]
  },
  {
   "cell_type": "code",
   "execution_count": null,
   "metadata": {},
   "outputs": [
    {
     "name": "stdout",
     "output_type": "stream",
     "text": [
      "Accuracy: 0.652\n"
     ]
    },
    {
     "data": {
      "image/png": "[encoded data removed]",
      "text/plain": [
       "<Figure size 640x480 with 2 Axes>"
      ]
     },
     "metadata": {},
     "output_type": "display_data"
    }
   ],
   "source": [
    "from sklearn.ensemble import RandomForestClassifier\n",
    "from sklearn.metrics import accuracy_score, ConfusionMatrixDisplay\n",
    "\n",
    "rf_model = RandomForestClassifier(n_estimators=100, random_state=42, class_weight='balanced')\n",
    "rf_model.fit(X_train, y_train)\n",
    "\n",
    "rf_y_pred = rf_model.predict(X_test)\n",
    "\n",
    "ConfusionMatrixDisplay.from_predictions(y_test, rf_y_pred, display_labels=df['Mental_State'].unique())\n",
    "print(\"Accuracy:\", accuracy_score(y_test, rf_y_pred))"
   ]
  },
  {
   "cell_type": "code",
   "execution_count": null,
   "metadata": {},
   "outputs": [
    {
     "name": "stdout",
     "output_type": "stream",
     "text": [
      "burnout\n"
     ]
    }
   ],
   "source": [
    "X_test\n",
    "\n",
    "user_input = pd.DataFrame([{\n",
    "    'Hours_Worked_Per_Week': 71,\n",
    "    'Work_Life_Balance_Rating': 1,\n",
    "    'Sleep_Quality_Ranked': 2,\n",
    "    'Stress_Level_Ranked': 3\n",
    "}])\n",
    "\n",
    "test = rf_model.predict(user_input)[0]\n",
    "if test == 1:\n",
    "    print('good')\n",
    "else:\n",
    "    print('burnout')"
   ]
  }
 ],
 "metadata": {
  "kernelspec": {
   "display_name": "venv",
   "language": "python",
   "name": "python3"
  },
  "language_info": {
   "codemirror_mode": {
    "name": "ipython",
    "version": 3
   },
   "file_extension": ".py",
   "mimetype": "text/x-python",
   "name": "python",
   "nbconvert_exporter": "python",
   "pygments_lexer": "ipython3",
   "version": "3.13.0"
  }
 },
 "nbformat": 4,
 "nbformat_minor": 4
}
